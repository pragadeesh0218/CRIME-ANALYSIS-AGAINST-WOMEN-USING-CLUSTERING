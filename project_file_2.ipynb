{
  "nbformat": 4,
  "nbformat_minor": 0,
  "metadata": {
    "colab": {
      "provenance": []
    },
    "kernelspec": {
      "name": "python3",
      "display_name": "Python 3"
    },
    "language_info": {
      "name": "python"
    }
  },
  "cells": [
    {
      "cell_type": "code",
      "execution_count": null,
      "metadata": {
        "id": "OWWbuw2r6kyB",
        "colab": {
          "base_uri": "https://localhost:8080/"
        },
        "collapsed": true,
        "outputId": "dc45b244-4364-4e56-a3b2-702c324db5bf"
      },
      "outputs": [
        {
          "output_type": "stream",
          "name": "stdout",
          "text": [
            "Collecting scikit-optimize\n",
            "  Downloading scikit_optimize-0.10.2-py2.py3-none-any.whl.metadata (9.7 kB)\n",
            "Requirement already satisfied: joblib>=0.11 in /usr/local/lib/python3.11/dist-packages (from scikit-optimize) (1.4.2)\n",
            "Collecting pyaml>=16.9 (from scikit-optimize)\n",
            "  Downloading pyaml-25.1.0-py3-none-any.whl.metadata (12 kB)\n",
            "Requirement already satisfied: numpy>=1.20.3 in /usr/local/lib/python3.11/dist-packages (from scikit-optimize) (2.0.2)\n",
            "Requirement already satisfied: scipy>=1.1.0 in /usr/local/lib/python3.11/dist-packages (from scikit-optimize) (1.14.1)\n",
            "Requirement already satisfied: scikit-learn>=1.0.0 in /usr/local/lib/python3.11/dist-packages (from scikit-optimize) (1.6.1)\n",
            "Requirement already satisfied: packaging>=21.3 in /usr/local/lib/python3.11/dist-packages (from scikit-optimize) (24.2)\n",
            "Requirement already satisfied: PyYAML in /usr/local/lib/python3.11/dist-packages (from pyaml>=16.9->scikit-optimize) (6.0.2)\n",
            "Requirement already satisfied: threadpoolctl>=3.1.0 in /usr/local/lib/python3.11/dist-packages (from scikit-learn>=1.0.0->scikit-optimize) (3.6.0)\n",
            "Downloading scikit_optimize-0.10.2-py2.py3-none-any.whl (107 kB)\n",
            "\u001b[2K   \u001b[90m━━━━━━━━━━━━━━━━━━━━━━━━━━━━━━━━━━━━━━━━\u001b[0m \u001b[32m107.8/107.8 kB\u001b[0m \u001b[31m1.5 MB/s\u001b[0m eta \u001b[36m0:00:00\u001b[0m\n",
            "\u001b[?25hDownloading pyaml-25.1.0-py3-none-any.whl (26 kB)\n",
            "Installing collected packages: pyaml, scikit-optimize\n",
            "Successfully installed pyaml-25.1.0 scikit-optimize-0.10.2\n"
          ]
        }
      ],
      "source": [
        "!pip install scikit-optimize"
      ]
    },
    {
      "cell_type": "code",
      "source": [
        "import pandas as pd\n",
        "import numpy as np\n",
        "import seaborn as sns\n",
        "import matplotlib.pyplot as plt\n",
        "from sklearn.metrics import confusion_matrix\n",
        "from skopt import BayesSearchCV\n",
        "from sklearn.model_selection import train_test_split\n",
        "from sklearn.preprocessing import LabelEncoder, StandardScaler, MinMaxScaler\n",
        "from sklearn.neighbors import KNeighborsClassifier\n",
        "from sklearn.tree import DecisionTreeClassifier\n",
        "from sklearn.ensemble import RandomForestClassifier\n",
        "from sklearn.svm import SVC\n",
        "from sklearn.naive_bayes import GaussianNB\n",
        "from sklearn.metrics import confusion_matrix, accuracy_score, precision_score, recall_score, f1_score"
      ],
      "metadata": {
        "id": "3yaj4L2w8ql2"
      },
      "execution_count": null,
      "outputs": []
    },
    {
      "cell_type": "code",
      "source": [
        "data = pd.read_csv('data_clustering.csv')\n",
        "data.head()"
      ],
      "metadata": {
        "id": "TPABy4jR9bh0",
        "collapsed": true,
        "colab": {
          "base_uri": "https://localhost:8080/",
          "height": 206
        },
        "outputId": "057ff94b-20ed-4f02-dd65-121627cfc4e0"
      },
      "execution_count": null,
      "outputs": [
        {
          "output_type": "execute_result",
          "data": {
            "text/plain": [
              "        K&A        DD       AoW       AoM        DV   WT  Cluster\n",
              "0  0.003576  0.000000  0.005251  0.000318  0.000473  0.0        0\n",
              "1  0.069566  0.023376  0.057227  0.000425  0.053613  0.0        0\n",
              "2  0.011118  0.027734  0.118697  0.017088  0.036086  0.0        0\n",
              "3  0.000390  0.000792  0.001145  0.000743  0.000473  0.0        0\n",
              "4  0.055718  0.026545  0.050899  0.011781  0.157531  0.0        0"
            ],
            "text/html": [
              "\n",
              "  <div id=\"df-bcaeedfe-b9c8-4d10-999e-e9fa8518db77\" class=\"colab-df-container\">\n",
              "    <div>\n",
              "<style scoped>\n",
              "    .dataframe tbody tr th:only-of-type {\n",
              "        vertical-align: middle;\n",
              "    }\n",
              "\n",
              "    .dataframe tbody tr th {\n",
              "        vertical-align: top;\n",
              "    }\n",
              "\n",
              "    .dataframe thead th {\n",
              "        text-align: right;\n",
              "    }\n",
              "</style>\n",
              "<table border=\"1\" class=\"dataframe\">\n",
              "  <thead>\n",
              "    <tr style=\"text-align: right;\">\n",
              "      <th></th>\n",
              "      <th>K&amp;A</th>\n",
              "      <th>DD</th>\n",
              "      <th>AoW</th>\n",
              "      <th>AoM</th>\n",
              "      <th>DV</th>\n",
              "      <th>WT</th>\n",
              "      <th>Cluster</th>\n",
              "    </tr>\n",
              "  </thead>\n",
              "  <tbody>\n",
              "    <tr>\n",
              "      <th>0</th>\n",
              "      <td>0.003576</td>\n",
              "      <td>0.000000</td>\n",
              "      <td>0.005251</td>\n",
              "      <td>0.000318</td>\n",
              "      <td>0.000473</td>\n",
              "      <td>0.0</td>\n",
              "      <td>0</td>\n",
              "    </tr>\n",
              "    <tr>\n",
              "      <th>1</th>\n",
              "      <td>0.069566</td>\n",
              "      <td>0.023376</td>\n",
              "      <td>0.057227</td>\n",
              "      <td>0.000425</td>\n",
              "      <td>0.053613</td>\n",
              "      <td>0.0</td>\n",
              "      <td>0</td>\n",
              "    </tr>\n",
              "    <tr>\n",
              "      <th>2</th>\n",
              "      <td>0.011118</td>\n",
              "      <td>0.027734</td>\n",
              "      <td>0.118697</td>\n",
              "      <td>0.017088</td>\n",
              "      <td>0.036086</td>\n",
              "      <td>0.0</td>\n",
              "      <td>0</td>\n",
              "    </tr>\n",
              "    <tr>\n",
              "      <th>3</th>\n",
              "      <td>0.000390</td>\n",
              "      <td>0.000792</td>\n",
              "      <td>0.001145</td>\n",
              "      <td>0.000743</td>\n",
              "      <td>0.000473</td>\n",
              "      <td>0.0</td>\n",
              "      <td>0</td>\n",
              "    </tr>\n",
              "    <tr>\n",
              "      <th>4</th>\n",
              "      <td>0.055718</td>\n",
              "      <td>0.026545</td>\n",
              "      <td>0.050899</td>\n",
              "      <td>0.011781</td>\n",
              "      <td>0.157531</td>\n",
              "      <td>0.0</td>\n",
              "      <td>0</td>\n",
              "    </tr>\n",
              "  </tbody>\n",
              "</table>\n",
              "</div>\n",
              "    <div class=\"colab-df-buttons\">\n",
              "\n",
              "  <div class=\"colab-df-container\">\n",
              "    <button class=\"colab-df-convert\" onclick=\"convertToInteractive('df-bcaeedfe-b9c8-4d10-999e-e9fa8518db77')\"\n",
              "            title=\"Convert this dataframe to an interactive table.\"\n",
              "            style=\"display:none;\">\n",
              "\n",
              "  <svg xmlns=\"http://www.w3.org/2000/svg\" height=\"24px\" viewBox=\"0 -960 960 960\">\n",
              "    <path d=\"M120-120v-720h720v720H120Zm60-500h600v-160H180v160Zm220 220h160v-160H400v160Zm0 220h160v-160H400v160ZM180-400h160v-160H180v160Zm440 0h160v-160H620v160ZM180-180h160v-160H180v160Zm440 0h160v-160H620v160Z\"/>\n",
              "  </svg>\n",
              "    </button>\n",
              "\n",
              "  <style>\n",
              "    .colab-df-container {\n",
              "      display:flex;\n",
              "      gap: 12px;\n",
              "    }\n",
              "\n",
              "    .colab-df-convert {\n",
              "      background-color: #E8F0FE;\n",
              "      border: none;\n",
              "      border-radius: 50%;\n",
              "      cursor: pointer;\n",
              "      display: none;\n",
              "      fill: #1967D2;\n",
              "      height: 32px;\n",
              "      padding: 0 0 0 0;\n",
              "      width: 32px;\n",
              "    }\n",
              "\n",
              "    .colab-df-convert:hover {\n",
              "      background-color: #E2EBFA;\n",
              "      box-shadow: 0px 1px 2px rgba(60, 64, 67, 0.3), 0px 1px 3px 1px rgba(60, 64, 67, 0.15);\n",
              "      fill: #174EA6;\n",
              "    }\n",
              "\n",
              "    .colab-df-buttons div {\n",
              "      margin-bottom: 4px;\n",
              "    }\n",
              "\n",
              "    [theme=dark] .colab-df-convert {\n",
              "      background-color: #3B4455;\n",
              "      fill: #D2E3FC;\n",
              "    }\n",
              "\n",
              "    [theme=dark] .colab-df-convert:hover {\n",
              "      background-color: #434B5C;\n",
              "      box-shadow: 0px 1px 3px 1px rgba(0, 0, 0, 0.15);\n",
              "      filter: drop-shadow(0px 1px 2px rgba(0, 0, 0, 0.3));\n",
              "      fill: #FFFFFF;\n",
              "    }\n",
              "  </style>\n",
              "\n",
              "    <script>\n",
              "      const buttonEl =\n",
              "        document.querySelector('#df-bcaeedfe-b9c8-4d10-999e-e9fa8518db77 button.colab-df-convert');\n",
              "      buttonEl.style.display =\n",
              "        google.colab.kernel.accessAllowed ? 'block' : 'none';\n",
              "\n",
              "      async function convertToInteractive(key) {\n",
              "        const element = document.querySelector('#df-bcaeedfe-b9c8-4d10-999e-e9fa8518db77');\n",
              "        const dataTable =\n",
              "          await google.colab.kernel.invokeFunction('convertToInteractive',\n",
              "                                                    [key], {});\n",
              "        if (!dataTable) return;\n",
              "\n",
              "        const docLinkHtml = 'Like what you see? Visit the ' +\n",
              "          '<a target=\"_blank\" href=https://colab.research.google.com/notebooks/data_table.ipynb>data table notebook</a>'\n",
              "          + ' to learn more about interactive tables.';\n",
              "        element.innerHTML = '';\n",
              "        dataTable['output_type'] = 'display_data';\n",
              "        await google.colab.output.renderOutput(dataTable, element);\n",
              "        const docLink = document.createElement('div');\n",
              "        docLink.innerHTML = docLinkHtml;\n",
              "        element.appendChild(docLink);\n",
              "      }\n",
              "    </script>\n",
              "  </div>\n",
              "\n",
              "\n",
              "<div id=\"df-15a7342d-14a5-495a-a111-029a4694e45a\">\n",
              "  <button class=\"colab-df-quickchart\" onclick=\"quickchart('df-15a7342d-14a5-495a-a111-029a4694e45a')\"\n",
              "            title=\"Suggest charts\"\n",
              "            style=\"display:none;\">\n",
              "\n",
              "<svg xmlns=\"http://www.w3.org/2000/svg\" height=\"24px\"viewBox=\"0 0 24 24\"\n",
              "     width=\"24px\">\n",
              "    <g>\n",
              "        <path d=\"M19 3H5c-1.1 0-2 .9-2 2v14c0 1.1.9 2 2 2h14c1.1 0 2-.9 2-2V5c0-1.1-.9-2-2-2zM9 17H7v-7h2v7zm4 0h-2V7h2v10zm4 0h-2v-4h2v4z\"/>\n",
              "    </g>\n",
              "</svg>\n",
              "  </button>\n",
              "\n",
              "<style>\n",
              "  .colab-df-quickchart {\n",
              "      --bg-color: #E8F0FE;\n",
              "      --fill-color: #1967D2;\n",
              "      --hover-bg-color: #E2EBFA;\n",
              "      --hover-fill-color: #174EA6;\n",
              "      --disabled-fill-color: #AAA;\n",
              "      --disabled-bg-color: #DDD;\n",
              "  }\n",
              "\n",
              "  [theme=dark] .colab-df-quickchart {\n",
              "      --bg-color: #3B4455;\n",
              "      --fill-color: #D2E3FC;\n",
              "      --hover-bg-color: #434B5C;\n",
              "      --hover-fill-color: #FFFFFF;\n",
              "      --disabled-bg-color: #3B4455;\n",
              "      --disabled-fill-color: #666;\n",
              "  }\n",
              "\n",
              "  .colab-df-quickchart {\n",
              "    background-color: var(--bg-color);\n",
              "    border: none;\n",
              "    border-radius: 50%;\n",
              "    cursor: pointer;\n",
              "    display: none;\n",
              "    fill: var(--fill-color);\n",
              "    height: 32px;\n",
              "    padding: 0;\n",
              "    width: 32px;\n",
              "  }\n",
              "\n",
              "  .colab-df-quickchart:hover {\n",
              "    background-color: var(--hover-bg-color);\n",
              "    box-shadow: 0 1px 2px rgba(60, 64, 67, 0.3), 0 1px 3px 1px rgba(60, 64, 67, 0.15);\n",
              "    fill: var(--button-hover-fill-color);\n",
              "  }\n",
              "\n",
              "  .colab-df-quickchart-complete:disabled,\n",
              "  .colab-df-quickchart-complete:disabled:hover {\n",
              "    background-color: var(--disabled-bg-color);\n",
              "    fill: var(--disabled-fill-color);\n",
              "    box-shadow: none;\n",
              "  }\n",
              "\n",
              "  .colab-df-spinner {\n",
              "    border: 2px solid var(--fill-color);\n",
              "    border-color: transparent;\n",
              "    border-bottom-color: var(--fill-color);\n",
              "    animation:\n",
              "      spin 1s steps(1) infinite;\n",
              "  }\n",
              "\n",
              "  @keyframes spin {\n",
              "    0% {\n",
              "      border-color: transparent;\n",
              "      border-bottom-color: var(--fill-color);\n",
              "      border-left-color: var(--fill-color);\n",
              "    }\n",
              "    20% {\n",
              "      border-color: transparent;\n",
              "      border-left-color: var(--fill-color);\n",
              "      border-top-color: var(--fill-color);\n",
              "    }\n",
              "    30% {\n",
              "      border-color: transparent;\n",
              "      border-left-color: var(--fill-color);\n",
              "      border-top-color: var(--fill-color);\n",
              "      border-right-color: var(--fill-color);\n",
              "    }\n",
              "    40% {\n",
              "      border-color: transparent;\n",
              "      border-right-color: var(--fill-color);\n",
              "      border-top-color: var(--fill-color);\n",
              "    }\n",
              "    60% {\n",
              "      border-color: transparent;\n",
              "      border-right-color: var(--fill-color);\n",
              "    }\n",
              "    80% {\n",
              "      border-color: transparent;\n",
              "      border-right-color: var(--fill-color);\n",
              "      border-bottom-color: var(--fill-color);\n",
              "    }\n",
              "    90% {\n",
              "      border-color: transparent;\n",
              "      border-bottom-color: var(--fill-color);\n",
              "    }\n",
              "  }\n",
              "</style>\n",
              "\n",
              "  <script>\n",
              "    async function quickchart(key) {\n",
              "      const quickchartButtonEl =\n",
              "        document.querySelector('#' + key + ' button');\n",
              "      quickchartButtonEl.disabled = true;  // To prevent multiple clicks.\n",
              "      quickchartButtonEl.classList.add('colab-df-spinner');\n",
              "      try {\n",
              "        const charts = await google.colab.kernel.invokeFunction(\n",
              "            'suggestCharts', [key], {});\n",
              "      } catch (error) {\n",
              "        console.error('Error during call to suggestCharts:', error);\n",
              "      }\n",
              "      quickchartButtonEl.classList.remove('colab-df-spinner');\n",
              "      quickchartButtonEl.classList.add('colab-df-quickchart-complete');\n",
              "    }\n",
              "    (() => {\n",
              "      let quickchartButtonEl =\n",
              "        document.querySelector('#df-15a7342d-14a5-495a-a111-029a4694e45a button');\n",
              "      quickchartButtonEl.style.display =\n",
              "        google.colab.kernel.accessAllowed ? 'block' : 'none';\n",
              "    })();\n",
              "  </script>\n",
              "</div>\n",
              "\n",
              "    </div>\n",
              "  </div>\n"
            ],
            "application/vnd.google.colaboratory.intrinsic+json": {
              "type": "dataframe",
              "variable_name": "data",
              "summary": "{\n  \"name\": \"data\",\n  \"rows\": 507,\n  \"fields\": [\n    {\n      \"column\": \"K&A\",\n      \"properties\": {\n        \"dtype\": \"number\",\n        \"std\": 0.034681311961515957,\n        \"min\": 0.0,\n        \"max\": 0.1923151940706066,\n        \"num_unique_values\": 284,\n        \"samples\": [\n          0.017619140498017,\n          0.0044210389441518,\n          0.0265262336649112\n        ],\n        \"semantic_type\": \"\",\n        \"description\": \"\"\n      }\n    },\n    {\n      \"column\": \"DD\",\n      \"properties\": {\n        \"dtype\": \"number\",\n        \"std\": 0.042622633522729915,\n        \"min\": 0.0,\n        \"max\": 0.2080031695721077,\n        \"num_unique_values\": 148,\n        \"samples\": [\n          0.0530903328050713,\n          0.0122820919175911,\n          0.0998415213946117\n        ],\n        \"semantic_type\": \"\",\n        \"description\": \"\"\n      }\n    },\n    {\n      \"column\": \"AoW\",\n      \"properties\": {\n        \"dtype\": \"number\",\n        \"std\": 0.05909368605978346,\n        \"min\": 0.0,\n        \"max\": 0.3303709688278462,\n        \"num_unique_values\": 301,\n        \"samples\": [\n          0.1815794788931529,\n          0.1174173567629435,\n          0.0331246212886285\n        ],\n        \"semantic_type\": \"\",\n        \"description\": \"\"\n      }\n    },\n    {\n      \"column\": \"AoM\",\n      \"properties\": {\n        \"dtype\": \"number\",\n        \"std\": 0.014001647376636138,\n        \"min\": 0.0,\n        \"max\": 0.0723837826363829,\n        \"num_unique_values\": 164,\n        \"samples\": [\n          0.0538102313733814,\n          0.0184674166843557,\n          0.0168753980046699\n        ],\n        \"semantic_type\": \"\",\n        \"description\": \"\"\n      }\n    },\n    {\n      \"column\": \"DV\",\n      \"properties\": {\n        \"dtype\": \"number\",\n        \"std\": 0.06401778996445008,\n        \"min\": 0.0,\n        \"max\": 0.3509751696881175,\n        \"num_unique_values\": 272,\n        \"samples\": [\n          0.025259902053441,\n          0.1076982558639058,\n          0.0891399604777042\n        ],\n        \"semantic_type\": \"\",\n        \"description\": \"\"\n      }\n    },\n    {\n      \"column\": \"WT\",\n      \"properties\": {\n        \"dtype\": \"number\",\n        \"std\": 0.01061114595680725,\n        \"min\": 0.0,\n        \"max\": 0.0655737704918032,\n        \"num_unique_values\": 28,\n        \"samples\": [\n          0.0145719489981785,\n          0.0382513661202185,\n          0.0109289617486338\n        ],\n        \"semantic_type\": \"\",\n        \"description\": \"\"\n      }\n    },\n    {\n      \"column\": \"Cluster\",\n      \"properties\": {\n        \"dtype\": \"number\",\n        \"std\": 0,\n        \"min\": 0,\n        \"max\": 1,\n        \"num_unique_values\": 2,\n        \"samples\": [\n          1,\n          0\n        ],\n        \"semantic_type\": \"\",\n        \"description\": \"\"\n      }\n    }\n  ]\n}"
            }
          },
          "metadata": {},
          "execution_count": 6
        }
      ]
    },
    {
      "cell_type": "code",
      "source": [
        "print(\"\\n Information dataset:\")\n",
        "data.info()\n",
        "print(\"\\n Missing values per column:\")\n",
        "print(data.isnull().sum())"
      ],
      "metadata": {
        "id": "vpb0YyHc-jAU",
        "colab": {
          "base_uri": "https://localhost:8080/"
        },
        "outputId": "30b73161-88d1-41dd-89e4-b771a1350cc6"
      },
      "execution_count": null,
      "outputs": [
        {
          "output_type": "stream",
          "name": "stdout",
          "text": [
            "\n",
            " Information dataset:\n",
            "<class 'pandas.core.frame.DataFrame'>\n",
            "RangeIndex: 507 entries, 0 to 506\n",
            "Data columns (total 7 columns):\n",
            " #   Column   Non-Null Count  Dtype  \n",
            "---  ------   --------------  -----  \n",
            " 0   K&A      507 non-null    float64\n",
            " 1   DD       507 non-null    float64\n",
            " 2   AoW      507 non-null    float64\n",
            " 3   AoM      507 non-null    float64\n",
            " 4   DV       507 non-null    float64\n",
            " 5   WT       507 non-null    float64\n",
            " 6   Cluster  507 non-null    int64  \n",
            "dtypes: float64(6), int64(1)\n",
            "memory usage: 27.9 KB\n",
            "\n",
            " Missing values per column:\n",
            "K&A        0\n",
            "DD         0\n",
            "AoW        0\n",
            "AoM        0\n",
            "DV         0\n",
            "WT         0\n",
            "Cluster    0\n",
            "dtype: int64\n"
          ]
        }
      ]
    },
    {
      "cell_type": "code",
      "source": [
        "data = data.drop(columns=['Cluster', 'AoW', 'DV', 'WT'])"
      ],
      "metadata": {
        "id": "Wzh5UpR5-vB4"
      },
      "execution_count": null,
      "outputs": []
    },
    {
      "cell_type": "code",
      "source": [
        "#data  split\n",
        "scaler = MinMaxScaler()\n",
        "threshold1 = 0.5\n",
        "threshold2 = 0.75\n",
        "#Normalize all numeric column\n",
        "numeric_columns = data.select_dtypes(include=['int64', 'float64']).columns\n",
        "data[numeric_columns] = scaler.fit_transform(data[numeric_columns])\n",
        "\n",
        "#Separate feature (X) and target (y)\n",
        "X = data.drop(columns=['DD'])\n",
        "y = data['DD']\n",
        "\n",
        "# Split data into training sets and test sets\n",
        "X_train, X_test, y_train, y_test = train_test_split(X, y, test_size=0.2, random_state=42)\n",
        "\n",
        "#Convert Continuous Data to Discrete\n",
        "y_train = np.where(y_train < threshold1, 0, np.where(y_train < threshold2, 1, 2))\n",
        "y_test = np.where(y_test < threshold1, 0, np.where(y_test < threshold2, 1, 2))\n",
        "\n",
        "#Show the shape of the training set and test set to ensure the split\n",
        "print(f\"Training set shape: X_train={X_train.shape}, y_train={y_train.shape}\")\n",
        "print(f\"Test set shape: X_test={X_test.shape}, y_test={y_test.shape}\")"
      ],
      "metadata": {
        "id": "fEjh3FQO-7kI",
        "colab": {
          "base_uri": "https://localhost:8080/"
        },
        "outputId": "5dc48f61-c9a8-4e74-dc53-d8c6ad1c5dc1"
      },
      "execution_count": null,
      "outputs": [
        {
          "output_type": "stream",
          "name": "stdout",
          "text": [
            "Training set shape: X_train=(405, 2), y_train=(405,)\n",
            "Test set shape: X_test=(102, 2), y_test=(102,)\n"
          ]
        }
      ]
    },
    {
      "cell_type": "code",
      "source": [
        "# Part 1: Model Training\n",
        "# Define each classification separately\n",
        "knn = KNeighborsClassifier().fit(X_train, y_train)\n",
        "dt = DecisionTreeClassifier().fit(X_train, y_train)\n",
        "rf = RandomForestClassifier().fit(X_train, y_train)\n",
        "svm = SVC().fit(X_train, y_train)\n",
        "nb = GaussianNB().fit(X_train, y_train)\n",
        "print(\"Model training finished.\")"
      ],
      "metadata": {
        "id": "f5QMXRUjAuyu",
        "colab": {
          "base_uri": "https://localhost:8080/"
        },
        "outputId": "ea519b5f-08a3-484c-d890-4a19fb28f19f"
      },
      "execution_count": null,
      "outputs": [
        {
          "output_type": "stream",
          "name": "stdout",
          "text": [
            "Model training finished.\n"
          ]
        }
      ]
    },
    {
      "cell_type": "code",
      "source": [
        "def evaluate_model(model, X_test, y_test):\n",
        "    y_pred = model.predict(X_test)\n",
        "    return {\n",
        "        'Accuracy': accuracy_score(y_test, y_pred),\n",
        "        'Precision': precision_score(y_test, y_pred, average='weighted'),\n",
        "        'Recall': recall_score(y_test, y_pred, average='weighted'),\n",
        "        'F1-Score': f1_score(y_test, y_pred, average='weighted')\n",
        "    }\n",
        "\n",
        "# Evaluate each model and print F1 scores\n",
        "results = {\n",
        "    'K-Nearest Neighbors (KNN)': evaluate_model(knn, X_test, y_test),\n",
        "    'Decision Tree (DT)': evaluate_model(dt, X_test, y_test),\n",
        "    'Random Forest (RF)': evaluate_model(rf, X_test, y_test),\n",
        "    'Support Vector Machine (SVM)': evaluate_model(svm, X_test, y_test),\n",
        "    'Naive Bayes (NB)': evaluate_model(nb, X_test, y_test)\n",
        "}\n",
        "\n",
        "# Create a DataFrame to summarize the results\n",
        "summary_df = pd.DataFrame(columns=['Model', 'Accuracy', 'Precision', 'Recall', 'F1-Score'])\n",
        "\n",
        "# DataFrame Ratio with Results\n",
        "rows = []\n",
        "for model_name, metrics in results.items():\n",
        "    rows.append({\n",
        "        'Model': model_name,\n",
        "        'Accuracy': metrics['Accuracy'],\n",
        "        'Precision': metrics['Precision'],\n",
        "        'Recall': metrics['Recall'],\n",
        "        'F1-Score': metrics['F1-Score']\n",
        "    })\n",
        "\n",
        "# Convert dictionary lists to DataFrames\n",
        "summary_df = pd.DataFrame(rows)\n",
        "\n",
        "#Display DataFrame\n",
        "print(summary_df)"
      ],
      "metadata": {
        "id": "ULsE3E2JBF1T",
        "colab": {
          "base_uri": "https://localhost:8080/"
        },
        "outputId": "fc6bdfdf-74c2-45db-f315-7ce196bc7a74"
      },
      "execution_count": null,
      "outputs": [
        {
          "output_type": "stream",
          "name": "stdout",
          "text": [
            "                          Model  Accuracy  Precision    Recall  F1-Score\n",
            "0     K-Nearest Neighbors (KNN)  0.921569   0.908173  0.921569  0.891323\n",
            "1            Decision Tree (DT)  0.833333   0.869120  0.833333  0.850779\n",
            "2            Random Forest (RF)  0.921569   0.901694  0.921569  0.905800\n",
            "3  Support Vector Machine (SVM)  0.911765   0.831315  0.911765  0.869683\n",
            "4              Naive Bayes (NB)  0.882353   0.828877  0.882353  0.854779\n"
          ]
        },
        {
          "output_type": "stream",
          "name": "stderr",
          "text": [
            "/usr/local/lib/python3.11/dist-packages/sklearn/metrics/_classification.py:1565: UndefinedMetricWarning: Precision is ill-defined and being set to 0.0 in labels with no predicted samples. Use `zero_division` parameter to control this behavior.\n",
            "  _warn_prf(average, modifier, f\"{metric.capitalize()} is\", len(result))\n",
            "/usr/local/lib/python3.11/dist-packages/sklearn/metrics/_classification.py:1565: UndefinedMetricWarning: Precision is ill-defined and being set to 0.0 in labels with no predicted samples. Use `zero_division` parameter to control this behavior.\n",
            "  _warn_prf(average, modifier, f\"{metric.capitalize()} is\", len(result))\n",
            "/usr/local/lib/python3.11/dist-packages/sklearn/metrics/_classification.py:1565: UndefinedMetricWarning: Precision is ill-defined and being set to 0.0 in labels with no predicted samples. Use `zero_division` parameter to control this behavior.\n",
            "  _warn_prf(average, modifier, f\"{metric.capitalize()} is\", len(result))\n"
          ]
        }
      ]
    },
    {
      "cell_type": "code",
      "source": [
        "# Function to evaluate model and display confusion matrix\n",
        "def evaluate_model_with_confusion(model, X_test, y_test):\n",
        "    y_pred = model.predict(X_test)\n",
        "    cm = confusion_matrix(y_test, y_pred)\n",
        "\n",
        "    # Plot confusion matrix\n",
        "    plt.figure(figsize=(6, 4))\n",
        "    sns.heatmap(cm, annot=True, fmt=\"d\", cmap=\"Blues\", cbar=False)\n",
        "    plt.xlabel('Predicted Labels')\n",
        "    plt.ylabel('True Labels')\n",
        "    plt.title(f'Confusion Matrix for {model.__class__.__name__}')\n",
        "    plt.show()\n",
        "\n",
        "# Evaluate each model and display confusion matrices\n",
        "models = {\n",
        "    'K-Nearest Neighbors (KNN)': knn,\n",
        "    'Decision Tree (DT)': dt,\n",
        "    'Random Forest (RF)': rf,\n",
        "    'Support Vector Machine (SVM)': svm,\n",
        "    'Naive Bayes (NB)': nb\n",
        "}\n",
        "\n",
        "for model_name, model in models.items():\n",
        "    print(f\"Confusion Matrix for {model_name}:\")\n",
        "    evaluate_model_with_confusion(model, X_test, y_test)"
      ],
      "metadata": {
        "id": "KDkmvEOxFSHH",
        "colab": {
          "base_uri": "https://localhost:8080/",
          "height": 1000
        },
        "outputId": "00a6f58f-ed72-4f2f-9526-2c85bf742ec8"
      },
      "execution_count": null,
      "outputs": [
        {
          "output_type": "stream",
          "name": "stdout",
          "text": [
            "Confusion Matrix for K-Nearest Neighbors (KNN):\n"
          ]
        },
        {
          "output_type": "display_data",
          "data": {
            "text/plain": [
              "<Figure size 600x400 with 1 Axes>"
            ],
            "image/png": "[encoded data removed]"
          },
          "metadata": {}
        },
        {
          "output_type": "stream",
          "name": "stdout",
          "text": [
            "Confusion Matrix for Decision Tree (DT):\n"
          ]
        },
        {
          "output_type": "display_data",
          "data": {
            "text/plain": [
              "<Figure size 600x400 with 1 Axes>"
            ],
            "image/png": "[encoded data removed]"
          },
          "metadata": {}
        },
        {
          "output_type": "stream",
          "name": "stdout",
          "text": [
            "Confusion Matrix for Random Forest (RF):\n"
          ]
        },
        {
          "output_type": "display_data",
          "data": {
            "text/plain": [
              "<Figure size 600x400 with 1 Axes>"
            ],
            "image/png": "[encoded data removed]"
          },
          "metadata": {}
        },
        {
          "output_type": "stream",
          "name": "stdout",
          "text": [
            "Confusion Matrix for Support Vector Machine (SVM):\n"
          ]
        },
        {
          "output_type": "display_data",
          "data": {
            "text/plain": [
              "<Figure size 600x400 with 1 Axes>"
            ],
            "image/png": "[encoded data removed]"
          },
          "metadata": {}
        },
        {
          "output_type": "stream",
          "name": "stdout",
          "text": [
            "Confusion Matrix for Naive Bayes (NB):\n"
          ]
        },
        {
          "output_type": "display_data",
          "data": {
            "text/plain": [
              "<Figure size 600x400 with 1 Axes>"
            ],
            "image/png": "[encoded data removed]"
          },
          "metadata": {}
        }
      ]
    },
    {
      "cell_type": "code",
      "source": [
        "# Define search space for Bayesian Optimization\n",
        "param_space_knn = {\n",
        "    'n_neighbors': (1, 5),              # Number of neighbors to consider\n",
        "    'weights': ['distance', 'uniform'],  # Weight function used in prediction\n",
        "    'metric': ['minkowski', 'manhattan', 'euclidean']  # Distance metric\n",
        "}\n",
        "\n",
        "# BayesSearchCV Initialization\n",
        "knn = KNeighborsClassifier()\n",
        "bayes_search_knn = BayesSearchCV(estimator=knn, search_spaces=param_space_knn, n_iter=24, cv=6, n_jobs=-1, verbose=3, random_state=24)\n",
        "bayes_search_knn.fit(X_train, y_train)\n",
        "\n",
        "# Best yield output\n",
        "print(f\"Best parameters (Bayesian Optimization for KNN): {bayes_search_knn.best_params_}\")\n",
        "best_knn_bayes = bayes_search_knn.best_estimator_\n",
        "\n",
        "# Evaluate the performance of the model on the test set\n",
        "knn_bayes_search_score = best_knn_bayes.score(X_test, y_test)\n",
        "print(f\"Accuracy after Bayesian Optimization (KNN): {knn_bayes_search_score:.2f}\")"
      ],
      "metadata": {
        "id": "n2aR-EqNFjhu",
        "colab": {
          "base_uri": "https://localhost:8080/"
        },
        "outputId": "a9027f74-9554-4b47-a5b1-387a5baac07f"
      },
      "execution_count": null,
      "outputs": [
        {
          "output_type": "stream",
          "name": "stdout",
          "text": [
            "Fitting 6 folds for each of 1 candidates, totalling 6 fits\n",
            "Fitting 6 folds for each of 1 candidates, totalling 6 fits\n",
            "Fitting 6 folds for each of 1 candidates, totalling 6 fits\n",
            "Fitting 6 folds for each of 1 candidates, totalling 6 fits\n",
            "Fitting 6 folds for each of 1 candidates, totalling 6 fits\n",
            "Fitting 6 folds for each of 1 candidates, totalling 6 fits\n",
            "Fitting 6 folds for each of 1 candidates, totalling 6 fits\n",
            "Fitting 6 folds for each of 1 candidates, totalling 6 fits\n",
            "Fitting 6 folds for each of 1 candidates, totalling 6 fits\n",
            "Fitting 6 folds for each of 1 candidates, totalling 6 fits\n",
            "Fitting 6 folds for each of 1 candidates, totalling 6 fits\n",
            "Fitting 6 folds for each of 1 candidates, totalling 6 fits\n",
            "Fitting 6 folds for each of 1 candidates, totalling 6 fits\n",
            "Fitting 6 folds for each of 1 candidates, totalling 6 fits\n",
            "Fitting 6 folds for each of 1 candidates, totalling 6 fits\n",
            "Fitting 6 folds for each of 1 candidates, totalling 6 fits\n",
            "Fitting 6 folds for each of 1 candidates, totalling 6 fits\n",
            "Fitting 6 folds for each of 1 candidates, totalling 6 fits\n",
            "Fitting 6 folds for each of 1 candidates, totalling 6 fits\n",
            "Fitting 6 folds for each of 1 candidates, totalling 6 fits\n",
            "Fitting 6 folds for each of 1 candidates, totalling 6 fits\n",
            "Fitting 6 folds for each of 1 candidates, totalling 6 fits\n",
            "Fitting 6 folds for each of 1 candidates, totalling 6 fits\n",
            "Fitting 6 folds for each of 1 candidates, totalling 6 fits\n",
            "Best parameters (Bayesian Optimization for KNN): OrderedDict([('metric', 'euclidean'), ('n_neighbors', 4), ('weights', 'uniform')])\n",
            "Accuracy after Bayesian Optimization (KNN): 0.93\n"
          ]
        }
      ]
    },
    {
      "cell_type": "code",
      "source": [
        "# Output the best parameters and best estimator\n",
        "print(f\"Best parameters (Bayesian Optimization for KNN): {bayes_search_knn.best_params_}\")\n",
        "best_knn_bayes = bayes_search_knn.best_estimator_\n",
        "\n",
        "# Evaluate the optimized KNN model on the test set\n",
        "knn_bayes_search_score = best_knn_bayes.score(X_test, y_test)\n",
        "print(f\"Accuracy after Bayesian Optimization (KNN): {knn_bayes_search_score:.2f}\")"
      ],
      "metadata": {
        "id": "7dNMirLZFkS-",
        "colab": {
          "base_uri": "https://localhost:8080/"
        },
        "outputId": "4780f1d5-99fd-4723-f802-3f7bbed38b44"
      },
      "execution_count": null,
      "outputs": [
        {
          "output_type": "stream",
          "name": "stdout",
          "text": [
            "Best parameters (Bayesian Optimization for KNN): OrderedDict([('metric', 'euclidean'), ('n_neighbors', 4), ('weights', 'uniform')])\n",
            "Accuracy after Bayesian Optimization (KNN): 0.93\n"
          ]
        }
      ]
    },
    {
      "cell_type": "code",
      "source": [
        "# Evaluate each model and print F1 scores\n",
        "results = {\n",
        "    'K-Nearest Neighbors (KNN) Tuned': evaluate_model(bayes_search_knn, X_test, y_test),\n",
        "}\n",
        "\n",
        "summary_df = pd.DataFrame(rows)\n",
        "\n",
        "print(\"Model Accuracy After Tuning\")\n",
        "print(summary_df)"
      ],
      "metadata": {
        "id": "BZlc7vh0FrOc",
        "colab": {
          "base_uri": "https://localhost:8080/"
        },
        "outputId": "f9972743-ba49-49b1-a22e-b7c1cebe7045"
      },
      "execution_count": null,
      "outputs": [
        {
          "output_type": "stream",
          "name": "stdout",
          "text": [
            "Model Accuracy After Tuning\n",
            "                          Model  Accuracy  Precision    Recall  F1-Score\n",
            "0     K-Nearest Neighbors (KNN)  0.921569   0.908173  0.921569  0.891323\n",
            "1            Decision Tree (DT)  0.833333   0.869120  0.833333  0.850779\n",
            "2            Random Forest (RF)  0.921569   0.901694  0.921569  0.905800\n",
            "3  Support Vector Machine (SVM)  0.911765   0.831315  0.911765  0.869683\n",
            "4              Naive Bayes (NB)  0.882353   0.828877  0.882353  0.854779\n"
          ]
        }
      ]
    },
    {
      "cell_type": "code",
      "source": [
        "evaluate_model_with_confusion(bayes_search_knn, X_test, y_test)\n"
      ],
      "metadata": {
        "id": "qqUyuGPRF3Ed",
        "colab": {
          "base_uri": "https://localhost:8080/",
          "height": 410
        },
        "outputId": "f794778c-f5f5-4e7a-8c8d-a5d43884b0c6"
      },
      "execution_count": null,
      "outputs": [
        {
          "output_type": "display_data",
          "data": {
            "text/plain": [
              "<Figure size 600x400 with 1 Axes>"
            ],
            "image/png": "[encoded data removed]"
          },
          "metadata": {}
        }
      ]
    }
  ]
}